{
 "cells": [
  {
   "cell_type": "code",
   "execution_count": null,
   "metadata": {},
   "outputs": [],
   "source": [
    "# tf.keras.layers.Conv2D\n",
    "# filters: convolution filter의 수 : output feature map의 채널\n",
    "\n",
    "# kernel_size: filter 사이즈\n",
    "# 예를 들어, 3 x 3 이면 3이라 해도 되고, (3,3) 이라 해도 되고, [3,3] 이라 해도 됨\n",
    "\n",
    "# strides: stride\n",
    "\n",
    "# padding:\n",
    "# - valid: no padding\n",
    "# - same: stride 1을 기준으로 입력과 출력이 같아지게.\n",
    "\n",
    "# data_format: \n",
    "# - default는 channel_last로 [batch, height, width, channels]\n",
    "# -- batch: mini batch 사이즈\n",
    "# - channel_firstsms [batch, channels, height, width]"
   ]
  }
 ],
 "metadata": {
  "language_info": {
   "name": "python"
  },
  "orig_nbformat": 4
 },
 "nbformat": 4,
 "nbformat_minor": 2
}
