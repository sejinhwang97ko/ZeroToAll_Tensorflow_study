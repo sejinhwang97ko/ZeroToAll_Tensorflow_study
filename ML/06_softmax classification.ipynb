{
 "cells": [
  {
   "attachments": {},
   "cell_type": "markdown",
   "metadata": {},
   "source": [
    "05_softmax classification 보다 코드 더 쉽게 하는 방법"
   ]
  },
  {
   "cell_type": "code",
   "execution_count": 26,
   "metadata": {},
   "outputs": [],
   "source": [
    "import numpy as np\n",
    "import tensorflow as tf"
   ]
  },
  {
   "cell_type": "code",
   "execution_count": 27,
   "metadata": {},
   "outputs": [
    {
     "name": "stdout",
     "output_type": "stream",
     "text": [
      "(101, 16) (101, 1)\n"
     ]
    }
   ],
   "source": [
    "xy = np.loadtxt('data-04-zoo.csv', delimiter=',', dtype=np.float32)\n",
    "x_data = xy[:, :-1]\n",
    "y_data = xy[:, [-1]]\n",
    "\n",
    "print(x_data.shape, y_data.shape)"
   ]
  },
  {
   "cell_type": "code",
   "execution_count": 28,
   "metadata": {},
   "outputs": [
    {
     "name": "stdout",
     "output_type": "stream",
     "text": [
      "(101, 7)\n"
     ]
    }
   ],
   "source": [
    "nb_classes = 7\n",
    "Y_one_hot = tf.one_hot(y_data.astype(np.int32), nb_classes)\n",
    "# print(Y_one_hot.shape) # (101, 1, 7)\n",
    "Y_one_hot = tf.reshape(Y_one_hot, [-1,nb_classes])\n",
    "print(Y_one_hot.shape) # (101,7 )"
   ]
  },
  {
   "cell_type": "code",
   "execution_count": 29,
   "metadata": {},
   "outputs": [],
   "source": [
    "W = tf.Variable(tf.random.normal([16, nb_classes]), name= 'weight')\n",
    "b = tf.Variable(tf.random.normal([nb_classes]), name = 'bias')\n",
    "variables = [W,b]"
   ]
  },
  {
   "cell_type": "code",
   "execution_count": 30,
   "metadata": {},
   "outputs": [],
   "source": [
    "def logit_fn(X):\n",
    "    return tf.matmul(X,W) + b\n",
    "\n",
    "def cost_fn(X,Y):\n",
    "    logits = logit_fn(X)\n",
    "    cost_i = tf.keras.losses.categorical_crossentropy(y_true=Y, y_pred=logits,\n",
    "                                                      from_logits=True)\n",
    "    # cost_i = tf.nn.softmax_cross_entropy_with_logits(logits=logits, labels=Y)\n",
    "    cost = tf.reduce_mean(cost_i)\n",
    "    return cost"
   ]
  },
  {
   "cell_type": "code",
   "execution_count": 31,
   "metadata": {},
   "outputs": [],
   "source": [
    "def grad_fn(X,Y):\n",
    "    with tf.GradientTape() as tape:\n",
    "        loss = cost_fn(X,Y)\n",
    "        grads = tape.gradient(loss, variables)\n",
    "        return grads\n",
    "\n",
    "def hypothesis(X):\n",
    "    return tf.nn.softmax(logit_fn(X))\n",
    "\n",
    "def prediction(X,Y):\n",
    "    pred = tf.argmax(hypothesis(X), 1)\n",
    "    correct_prediction = tf.equal(pred, tf.argmax(Y,1))\n",
    "    accuracy = tf.reduce_mean(tf.cast(correct_prediction,tf.float32))\n",
    "    return accuracy"
   ]
  },
  {
   "cell_type": "code",
   "execution_count": 32,
   "metadata": {},
   "outputs": [
    {
     "name": "stdout",
     "output_type": "stream",
     "text": [
      "Loss & Acc at 1 epoch 5.513110637664795, 0.12871287763118744\n",
      "Loss & Acc at 50 epoch 1.1106880903244019, 0.7029703259468079\n",
      "Loss & Acc at 100 epoch 0.6878463625907898, 0.801980197429657\n",
      "Loss & Acc at 150 epoch 0.5162277221679688, 0.8415841460227966\n",
      "Loss & Acc at 200 epoch 0.4204489588737488, 0.8514851331710815\n",
      "Loss & Acc at 250 epoch 0.3559260368347168, 0.8811880946159363\n",
      "Loss & Acc at 300 epoch 0.30836164951324463, 0.9108911156654358\n",
      "Loss & Acc at 350 epoch 0.2716260850429535, 0.9207921028137207\n",
      "Loss & Acc at 400 epoch 0.24238592386245728, 0.9603960514068604\n",
      "Loss & Acc at 450 epoch 0.21858172118663788, 0.9702970385551453\n",
      "Loss & Acc at 500 epoch 0.19886581599712372, 0.9702970385551453\n"
     ]
    }
   ],
   "source": [
    "def fit(X,Y, epochs=500, verbose=50):\n",
    "    optimizer =  tf.keras.optimizers.SGD(learning_rate=0.1)\n",
    "\n",
    "    for i in range(epochs):\n",
    "        grads = grad_fn(X,Y)\n",
    "        optimizer.apply_gradients(zip(grads, variables))\n",
    "        if (i==0) | ((i+1)%verbose==0):\n",
    "            acc = prediction(X,Y).numpy()\n",
    "            loss = cost_fn(X,Y).numpy()\n",
    "            print('Loss & Acc at {} epoch {}, {}'.format(i+1, loss, acc))\n",
    "\n",
    "fit(x_data, Y_one_hot)"
   ]
  }
 ],
 "metadata": {
  "kernelspec": {
   "display_name": "jtgpu",
   "language": "python",
   "name": "jtgpu"
  },
  "language_info": {
   "codemirror_mode": {
    "name": "ipython",
    "version": 3
   },
   "file_extension": ".py",
   "mimetype": "text/x-python",
   "name": "python",
   "nbconvert_exporter": "python",
   "pygments_lexer": "ipython3",
   "version": "3.7.16"
  },
  "orig_nbformat": 4
 },
 "nbformat": 4,
 "nbformat_minor": 2
}
