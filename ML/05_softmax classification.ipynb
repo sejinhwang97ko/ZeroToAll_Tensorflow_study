{
 "cells": [
  {
   "cell_type": "code",
   "execution_count": 2,
   "metadata": {},
   "outputs": [],
   "source": [
    "import numpy as np\n",
    "import tensorflow as tf"
   ]
  },
  {
   "cell_type": "code",
   "execution_count": 3,
   "metadata": {},
   "outputs": [],
   "source": [
    "x_data = [[1, 2, 1, 1],\n",
    "          [2, 1, 3, 2],\n",
    "          [3, 1, 3, 4],\n",
    "          [4, 1, 5, 5],\n",
    "          [1, 7, 5, 5],\n",
    "          [1, 2, 5, 6],\n",
    "          [1, 6, 6, 6],\n",
    "          [1, 7, 7, 7]]\n",
    "y_data = [[0, 0, 1],\n",
    "          [0, 0, 1],\n",
    "          [0, 0, 1],\n",
    "          [0, 1, 0],\n",
    "          [0, 1, 0],\n",
    "          [0, 1, 0],\n",
    "          [1, 0, 0],\n",
    "          [1, 0, 0]]\n",
    "\n",
    "x_data = np.asarray(x_data, dtype=np.float32)\n",
    "y_data = np.asarray(y_data, dtype=np.float32)\n",
    "\n",
    "nb_classes = 3"
   ]
  },
  {
   "cell_type": "code",
   "execution_count": 6,
   "metadata": {},
   "outputs": [],
   "source": [
    "W = tf.Variable(tf.random.normal([4, nb_classes]), name= 'weight')\n",
    "b = tf.Variable(tf.random.normal([nb_classes]), name = 'bias')\n",
    "variables = [W,b]"
   ]
  },
  {
   "cell_type": "code",
   "execution_count": 9,
   "metadata": {},
   "outputs": [],
   "source": [
    "def hypothesis(X):\n",
    "    return tf.nn.softmax(tf.matmul(X,W)+b)\n"
   ]
  },
  {
   "cell_type": "code",
   "execution_count": 10,
   "metadata": {},
   "outputs": [
    {
     "name": "stdout",
     "output_type": "stream",
     "text": [
      "tf.Tensor([[0.9765465  0.01738606 0.0060673 ]], shape=(1, 3), dtype=float32)\n"
     ]
    }
   ],
   "source": [
    "sample_db = [[8,2,1,4]]\n",
    "sample_db = np.asarray(sample_db, dtype=np.float32)\n",
    "\n",
    "print(hypothesis(sample_db))"
   ]
  },
  {
   "cell_type": "code",
   "execution_count": 13,
   "metadata": {},
   "outputs": [
    {
     "name": "stdout",
     "output_type": "stream",
     "text": [
      "tf.Tensor(8.472164, shape=(), dtype=float32)\n"
     ]
    }
   ],
   "source": [
    "def cost_fn(X,Y):\n",
    "    logits=hypothesis(X)\n",
    "    cost = -tf.reduce_sum(Y*tf.math.log(logits), axis=1)\n",
    "    cost_mean = tf.reduce_mean(cost)\n",
    "    return cost_mean\n",
    "print(cost_fn(x_data,y_data))"
   ]
  },
  {
   "cell_type": "code",
   "execution_count": 12,
   "metadata": {},
   "outputs": [
    {
     "name": "stdout",
     "output_type": "stream",
     "text": [
      "[<tf.Tensor: shape=(4, 3), dtype=float32, numpy=\n",
      "array([[-0.22836159,  0.96776885, -0.739361  ],\n",
      "       [-1.589947  ,  2.0751789 , -0.4852858 ],\n",
      "       [-1.6016809 ,  2.464029  , -0.8622811 ],\n",
      "       [-1.6027228 ,  2.4670808 , -0.86429524]], dtype=float32)>, <tf.Tensor: shape=(3,), dtype=float32, numpy=array([-0.23131397,  0.5978541 , -0.36654007], dtype=float32)>]\n"
     ]
    }
   ],
   "source": [
    "def grad_fn(X,Y):\n",
    "    with tf.GradientTape() as tape:\n",
    "        cost = cost_fn(X,Y)\n",
    "        grads = tape.gradient(cost, variables)\n",
    "        return grads\n",
    "print(grad_fn(x_data, y_data))"
   ]
  },
  {
   "cell_type": "code",
   "execution_count": 14,
   "metadata": {},
   "outputs": [
    {
     "name": "stdout",
     "output_type": "stream",
     "text": [
      "Loss at epoch 1: 5.763749\n",
      "Loss at epoch 100: 0.706546\n",
      "Loss at epoch 200: 0.620419\n",
      "Loss at epoch 300: 0.562362\n",
      "Loss at epoch 400: 0.515883\n",
      "Loss at epoch 500: 0.473977\n",
      "Loss at epoch 600: 0.436936\n",
      "Loss at epoch 700: 0.401386\n",
      "Loss at epoch 800: 0.368524\n",
      "Loss at epoch 900: 0.333213\n",
      "Loss at epoch 1000: 0.302579\n",
      "Loss at epoch 1100: 0.262868\n",
      "Loss at epoch 1200: 0.233748\n",
      "Loss at epoch 1300: 0.221166\n",
      "Loss at epoch 1400: 0.210886\n",
      "Loss at epoch 1500: 0.201519\n",
      "Loss at epoch 1600: 0.192940\n",
      "Loss at epoch 1700: 0.185002\n",
      "Loss at epoch 1800: 0.177703\n",
      "Loss at epoch 1900: 0.170889\n",
      "Loss at epoch 2000: 0.164583\n"
     ]
    }
   ],
   "source": [
    "def fit(X,Y, epochs=2000, verbose=100):\n",
    "    optimizer =  tf.keras.optimizers.SGD(learning_rate=0.1)\n",
    "\n",
    "    for i in range(epochs):\n",
    "        grads = grad_fn(X,Y)\n",
    "        optimizer.apply_gradients(zip(grads, variables))\n",
    "        if (i==0) | ((i+1)%verbose==0):\n",
    "            print('Loss at epoch %d: %f' %(i+1, cost_fn(X,Y).numpy()))\n",
    "\n",
    "fit(x_data, y_data)"
   ]
  },
  {
   "attachments": {},
   "cell_type": "markdown",
   "metadata": {},
   "source": [
    "# Prediction Check"
   ]
  },
  {
   "cell_type": "code",
   "execution_count": 15,
   "metadata": {},
   "outputs": [
    {
     "name": "stdout",
     "output_type": "stream",
     "text": [
      "tf.Tensor(\n",
      "[[5.5720834e-06 1.4347964e-03 9.9855965e-01]\n",
      " [6.1276573e-04 7.9903275e-02 9.1948402e-01]\n",
      " [1.7354182e-08 1.6706538e-01 8.3293462e-01]\n",
      " [1.1855685e-07 8.5085589e-01 1.4914402e-01]\n",
      " [2.6994276e-01 7.1799690e-01 1.2060314e-02]\n",
      " [1.4249223e-01 8.5743833e-01 6.9387752e-05]\n",
      " [7.3785204e-01 2.6209143e-01 5.6517849e-05]\n",
      " [9.0677726e-01 9.3221538e-02 1.1668226e-06]], shape=(8, 3), dtype=float32)\n",
      "tf.Tensor([2 2 2 1 1 1 0 0], shape=(8,), dtype=int64)\n",
      "tf.Tensor([2 2 2 1 1 1 0 0], shape=(8,), dtype=int64)\n"
     ]
    }
   ],
   "source": [
    "a = hypothesis(x_data)\n",
    "\n",
    "print(a)\n",
    "print(tf.argmax(a,1))\n",
    "print(tf.argmax(y_data,1))"
   ]
  },
  {
   "cell_type": "code",
   "execution_count": null,
   "metadata": {},
   "outputs": [],
   "source": []
  }
 ],
 "metadata": {
  "kernelspec": {
   "display_name": "jtgpu",
   "language": "python",
   "name": "jtgpu"
  },
  "language_info": {
   "codemirror_mode": {
    "name": "ipython",
    "version": 3
   },
   "file_extension": ".py",
   "mimetype": "text/x-python",
   "name": "python",
   "nbconvert_exporter": "python",
   "pygments_lexer": "ipython3",
   "version": "3.7.16"
  },
  "orig_nbformat": 4
 },
 "nbformat": 4,
 "nbformat_minor": 2
}
