{
 "cells": [
  {
   "cell_type": "code",
   "execution_count": 1,
   "metadata": {},
   "outputs": [],
   "source": [
    "import tensorflow as tf\n",
    "import numpy as np"
   ]
  },
  {
   "cell_type": "code",
   "execution_count": 2,
   "metadata": {},
   "outputs": [
    {
     "name": "stdout",
     "output_type": "stream",
     "text": [
      "    0 |    5.794e+06\n",
      "   50 |    6.429e+04\n",
      "  100 |        715.3\n",
      "  150 |        9.846\n",
      "  200 |        2.015\n",
      "  250 |        1.925\n",
      "  300 |        1.921\n",
      "  350 |        1.918\n",
      "  400 |        1.915\n",
      "  450 |        1.911\n",
      "  500 |        1.908\n",
      "  550 |        1.905\n",
      "  600 |        1.902\n",
      "  650 |        1.899\n",
      "  700 |        1.895\n",
      "  750 |        1.892\n",
      "  800 |        1.889\n",
      "  850 |        1.886\n",
      "  900 |        1.883\n",
      "  950 |         1.88\n",
      " 1000 |        1.877\n"
     ]
    }
   ],
   "source": [
    "# data and label\n",
    "x1 = [73., 93., 89., 96., 73.]\n",
    "x2 = [80., 88., 91., 98., 66.]\n",
    "x3 = [75., 93., 90., 100., 70.]\n",
    "Y = [152., 185., 180., 196., 142.]\n",
    "\n",
    "w1 = tf.Variable(10.)\n",
    "w2 = tf.Variable(10.)\n",
    "w3 = tf.Variable(10.)\n",
    "b = tf.Variable(10.)\n",
    "\n",
    "learning_rate = 0.000001\n",
    "\n",
    "for i in range(1000+1):\n",
    "    with tf.GradientTape() as tape:\n",
    "        hypothesis = w1 * x1 + w2 * x2 + w3 * x3 + b\n",
    "        cost = tf.reduce_mean(tf.square(hypothesis-Y))\n",
    "    w1_grad, w2_grad, w3_grad, b_grad = tape.gradient(cost, [w1,w2,w3,b])\n",
    "\n",
    "    w1.assign_sub(learning_rate*w1_grad)\n",
    "    w2.assign_sub(learning_rate*w2_grad)\n",
    "    w3.assign_sub(learning_rate*w3_grad)\n",
    "    b.assign_sub(learning_rate*b_grad)\n",
    "\n",
    "    if i % 50 == 0:\n",
    "        print('{:5} | {:12.4}'.format(i, cost.numpy()))"
   ]
  },
  {
   "cell_type": "code",
   "execution_count": 4,
   "metadata": {},
   "outputs": [
    {
     "name": "stdout",
     "output_type": "stream",
     "text": [
      "    0 |  1.548e+04\n",
      "  100 |       4.87\n",
      "  200 |      2.957\n",
      "  300 |      2.949\n",
      "  400 |      2.941\n",
      "  500 |      2.934\n",
      "  600 |      2.926\n",
      "  700 |      2.919\n",
      "  800 |      2.911\n",
      "  900 |      2.904\n",
      " 1000 |      2.897\n",
      " 1100 |      2.889\n",
      " 1200 |      2.882\n",
      " 1300 |      2.875\n",
      " 1400 |      2.868\n",
      " 1500 |       2.86\n",
      " 1600 |      2.853\n",
      " 1700 |      2.846\n",
      " 1800 |      2.839\n",
      " 1900 |      2.832\n",
      " 2000 |      2.825\n"
     ]
    }
   ],
   "source": [
    "# data and label\n",
    "data = np.array([\n",
    "    # X1, X2,  X3,   y\n",
    "    [73., 80., 75., 152.],\n",
    "    [93., 88., 93., 185.],\n",
    "    [89., 91., 90., 180.],\n",
    "    [96., 98., 100., 196.],\n",
    "    [73., 66., 70., 142.]\n",
    "], dtype=np.float32)\n",
    "\n",
    "X = data[:,:-1] # 5행 3열까지\n",
    "y = data[:,[-1]] # 4열\n",
    "\n",
    "W = tf.Variable(tf.random.normal([3,1])) # 변수 3개, 출력 1개 여서\n",
    "b = tf.Variable(tf.random.normal([1]))\n",
    "\n",
    "learning_rate = 0.000001\n",
    "def predict(X):\n",
    "    return tf.matmul(X,W)+b # H(X) = XW+b\n",
    "\n",
    "n_epochs = 2000\n",
    "for i in range(n_epochs+1):\n",
    "    with tf.GradientTape() as tape:\n",
    "        cost = tf.reduce_mean((tf.square(predict(X)-y)))\n",
    "\n",
    "    W_grad, b_grad = tape.gradient(cost, [W,b])\n",
    "\n",
    "    W.assign_sub(learning_rate*W_grad)\n",
    "    b.assign_sub(learning_rate*b_grad)\n",
    "\n",
    "    if i % 100 == 0:\n",
    "        print('{:5} | {:10.4}'.format(i, cost.numpy()))\n"
   ]
  }
 ],
 "metadata": {
  "kernelspec": {
   "display_name": "jtgpu",
   "language": "python",
   "name": "jtgpu"
  },
  "language_info": {
   "codemirror_mode": {
    "name": "ipython",
    "version": 3
   },
   "file_extension": ".py",
   "mimetype": "text/x-python",
   "name": "python",
   "nbconvert_exporter": "python",
   "pygments_lexer": "ipython3",
   "version": "3.7.16"
  },
  "orig_nbformat": 4
 },
 "nbformat": 4,
 "nbformat_minor": 2
}
