{
 "cells": [
  {
   "cell_type": "code",
   "execution_count": 1,
   "metadata": {},
   "outputs": [],
   "source": [
    "import tensorflow as tf\n",
    "import numpy as np\n",
    "from tensorflow.keras.utils import to_categorical\n",
    "from tensorflow.keras.datasets import mnist"
   ]
  },
  {
   "cell_type": "code",
   "execution_count": null,
   "metadata": {},
   "outputs": [],
   "source": [
    "def normalize(train_data, test_data):\n",
    "    train_data = train_data.astype(np.float32) / 255.0\n",
    "    test_data = test_data.astype(np.float32) / 255.0\n",
    "\n",
    "    return train_data, test_data"
   ]
  },
  {
   "cell_type": "code",
   "execution_count": null,
   "metadata": {},
   "outputs": [],
   "source": [
    "def load_mnist():\n",
    "    (train_data, train_labels), (test_data, test_labels) = mnist.load_data()\n",
    "    \n",
    "    # tensorflow가 인풋으로 받은 shape는 [batch_size, height, width, channel]인데\n",
    "    # mnist의 경우 graysclae image이기 때문에 채널이 1인 것이 생략되어서 3개의 shape\n",
    "    # 그래서 채널을 하나 더 만들어줘야 함\n",
    "    train_data = np.expand_dims(train_data, axis=-1) #[N,28,28] -> [N,28,28,1]\n",
    "    # axis=-1은 여기서 axis=3과 같음. (맨 끝에 채널을 붙여달라는 말이므로)    \n",
    "    test_data = np.expand_dims(test_data, axis=-1) #[N,28,28] -> [N,28,28,1]\n",
    "    \n",
    "    train_data, test_data = normalize(train_data, test_data) # [0~255] -> [0~1]\n",
    "\n",
    "    # one-hot-encoding\n",
    "    train_labels = to_categorical(train_labels, 10) #[N,] -> [N,10]\n",
    "    # label 개수가 10개 이므로 10을 넣음\n",
    "    test_labels = to_categorical(test_labels, 10) #[N,] -> [N,10]\n"
   ]
  },
  {
   "cell_type": "code",
   "execution_count": 2,
   "metadata": {},
   "outputs": [],
   "source": [
    "# shape 펼쳐주기\n",
    "def flatten():\n",
    "    return tf.keras.layers.Flatten()\n",
    "\n",
    "# fully connected layer\n",
    "def dense(channel, weight_init):\n",
    "    return tf.keras.layers.Dense(units=channel, use_bias = True,\n",
    "                                 kernel_initialier=weight_init)\n",
    "# units=channel : output으로 나가는 채널을 몇개로 설정한 것인지\n",
    "# use_bias : bias를 사용할 지\n",
    "# kernel_initialier : weight initializer\n",
    "\n",
    "def relu():\n",
    "    return tf.keras.layers.Activation(tf.keras.activations.relu)"
   ]
  },
  {
   "attachments": {},
   "cell_type": "markdown",
   "metadata": {},
   "source": [
    "방법1) 클래스로 짜기"
   ]
  },
  {
   "cell_type": "code",
   "execution_count": null,
   "metadata": {},
   "outputs": [],
   "source": [
    "class create_model(tf.keras.Model):\n",
    "    def __init__(self, label_dim): # label_dim: 최종적으로 몇 개의 아웃풋을 낼 건지\n",
    "        super(create_model, self).__init__()\n",
    "        weight_init = tf.keras.initializers.RandomNormal() # 평균이 0, 분산이 1\n",
    "        \n",
    "        self.model = tf.keras.Sequential() \n",
    "        # convolution이나 fully connected를 층층이 쌓아가는(리스트에 더해주는) 과정\n",
    "        # list 자료구조 타입\n",
    "        \n",
    "        self.model.add(flatten()) # [N,28,28,1] -> [N, 784] # full connected를 할 거기 때문에\n",
    "        \n",
    "        # for문 코드 : 총 4층\n",
    "        for i in range(2):\n",
    "            # [N,784] -> [N,256] -> [N,256]\n",
    "            self.model.add(dense(256, weight_init))\n",
    "            self.model.add(relu())\n",
    "\n",
    "        self.model.add(dense(label_dim,weight_init)) # [N,256] -> [N,10]"
   ]
  },
  {
   "cell_type": "code",
   "execution_count": null,
   "metadata": {},
   "outputs": [],
   "source": [
    "def call(self, x, training=None, mask=None):\n",
    "    x = self.model(x)\n",
    "    return x"
   ]
  },
  {
   "attachments": {},
   "cell_type": "markdown",
   "metadata": {},
   "source": [
    "방법2) 함수로 짜기"
   ]
  },
  {
   "cell_type": "code",
   "execution_count": null,
   "metadata": {},
   "outputs": [],
   "source": [
    "# def create_model(label_dim):\n",
    "#     weight_init = tf.keras.initializers.RandomNormal()\n",
    "\n",
    "#     model= tf.keras.Sequential()\n",
    "#     model.add(flatten())\n",
    "\n",
    "#     for i in range(2):\n",
    "#         model.add(dense(256, weight_init))\n",
    "#         model.add(relu())\n",
    "    \n",
    "#     model.add(dense(label_dim,weight_init))\n",
    "\n",
    "#     return model"
   ]
  }
 ],
 "metadata": {
  "kernelspec": {
   "display_name": "jtgpu",
   "language": "python",
   "name": "jtgpu"
  },
  "language_info": {
   "codemirror_mode": {
    "name": "ipython",
    "version": 3
   },
   "file_extension": ".py",
   "mimetype": "text/x-python",
   "name": "python",
   "nbconvert_exporter": "python",
   "pygments_lexer": "ipython3",
   "version": "3.7.16"
  },
  "orig_nbformat": 4
 },
 "nbformat": 4,
 "nbformat_minor": 2
}
