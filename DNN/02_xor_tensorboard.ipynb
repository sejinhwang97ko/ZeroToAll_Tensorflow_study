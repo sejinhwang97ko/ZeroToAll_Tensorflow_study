{
 "cells": [
  {
   "attachments": {},
   "cell_type": "markdown",
   "metadata": {},
   "source": [
    "# tensorboard"
   ]
  },
  {
   "cell_type": "code",
   "execution_count": 1,
   "metadata": {},
   "outputs": [],
   "source": [
    "import numpy as np\n",
    "import matplotlib.pyplot as plt\n",
    "import tensorflow as tf"
   ]
  },
  {
   "cell_type": "code",
   "execution_count": 2,
   "metadata": {},
   "outputs": [],
   "source": [
    "# summary 값을 logs폴더에 저장\n",
    "log_path = \"./logs/xor\"\n",
    "writer = tf.summary.create_file_writer(log_path)"
   ]
  },
  {
   "cell_type": "code",
   "execution_count": 3,
   "metadata": {},
   "outputs": [],
   "source": [
    "x_data = [[0,0],\n",
    "          [0,1],\n",
    "          [1,0],\n",
    "          [1,1]]\n",
    "y_data = [[0],\n",
    "          [1],\n",
    "          [1],\n",
    "          [0]]\n",
    "\n",
    "dataset = tf.data.Dataset.from_tensor_slices((x_data, y_data)).batch(len(x_data))\n",
    "\n",
    "# float값으로 바꾸기 위해\n",
    "def preprocess_data(features, labels):\n",
    "    features = tf.cast(features, tf.float32)\n",
    "    labels = tf.cast(labels, tf.float32)\n",
    "    return features, labels\n",
    "\n",
    "#w1 = tf.Variable(tf.random.normal([2,1]), name='weight1')\n",
    "#b1 = tf.Variable(tf.random.normal([1], name = 'bias1'))\n",
    "\n",
    "#w2 = tf.Variable(tf.random.normal([2,1]), name='weight2')\n",
    "#b2 = tf.Variable(tf.random.normal([1], name = 'bias2'))\n",
    "\n",
    "#w3 = tf.Variable(tf.random.normal([2,1]), name='weight3')\n",
    "#b3 = tf.Variable(tf.random.normal([1], name = 'bias3'))\n",
    "\n",
    "#w4 = tf.Variable(tf.random.normal([2,1]), name='weight4')\n",
    "#b4 = tf.Variable(tf.random.normal([1], name = 'bias4'))\n",
    "\n",
    "w1 = tf.Variable(tf.random.normal((2, 10)), name='weight1')\n",
    "b1 = tf.Variable(tf.random.normal((10,)), name='bias1')\n",
    "\n",
    "w2 = tf.Variable(tf.random.normal((10, 10)), name='weight2')\n",
    "b2 = tf.Variable(tf.random.normal((10,)), name='bias2')\n",
    "\n",
    "w3 = tf.Variable(tf.random.normal((10, 10)), name='weight3')\n",
    "b3 = tf.Variable(tf.random.normal((10,)), name='bias3')\n",
    "\n",
    "w4 = tf.Variable(tf.random.normal((10, 1)), name='weight4')\n",
    "b4 = tf.Variable(tf.random.normal((1,)), name='bias4')"
   ]
  },
  {
   "cell_type": "code",
   "execution_count": 4,
   "metadata": {},
   "outputs": [
    {
     "name": "stdout",
     "output_type": "stream",
     "text": [
      "Iter: 0, Loss: 1.0230\n",
      "Iter: 50, Loss: 0.8590\n",
      "Iter: 100, Loss: 0.7652\n",
      "Iter: 150, Loss: 0.7202\n",
      "Iter: 200, Loss: 0.7009\n",
      "Iter: 250, Loss: 0.6931\n",
      "Iter: 300, Loss: 0.6900\n",
      "Iter: 350, Loss: 0.6886\n",
      "Iter: 400, Loss: 0.6880\n",
      "Iter: 450, Loss: 0.6878\n",
      "Iter: 500, Loss: 0.6876\n",
      "Iter: 550, Loss: 0.6873\n",
      "Iter: 600, Loss: 0.6871\n",
      "Iter: 650, Loss: 0.6870\n",
      "Iter: 700, Loss: 0.6868\n",
      "Iter: 750, Loss: 0.6867\n",
      "Iter: 800, Loss: 0.6864\n",
      "Iter: 850, Loss: 0.6862\n",
      "Iter: 900, Loss: 0.6862\n",
      "Iter: 950, Loss: 0.6859\n",
      "Iter: 1000, Loss: 0.6858\n",
      "Iter: 1050, Loss: 0.6855\n",
      "Iter: 1100, Loss: 0.6853\n",
      "Iter: 1150, Loss: 0.6852\n",
      "Iter: 1200, Loss: 0.6850\n",
      "Iter: 1250, Loss: 0.6848\n",
      "Iter: 1300, Loss: 0.6847\n",
      "Iter: 1350, Loss: 0.6845\n",
      "Iter: 1400, Loss: 0.6843\n",
      "Iter: 1450, Loss: 0.6842\n",
      "Iter: 1500, Loss: 0.6840\n",
      "Iter: 1550, Loss: 0.6838\n",
      "Iter: 1600, Loss: 0.6835\n",
      "Iter: 1650, Loss: 0.6834\n",
      "Iter: 1700, Loss: 0.6831\n",
      "Iter: 1750, Loss: 0.6829\n",
      "Iter: 1800, Loss: 0.6828\n",
      "Iter: 1850, Loss: 0.6825\n",
      "Iter: 1900, Loss: 0.6824\n",
      "Iter: 1950, Loss: 0.6822\n",
      "Iter: 2000, Loss: 0.6820\n",
      "Iter: 2050, Loss: 0.6818\n",
      "Iter: 2100, Loss: 0.6816\n",
      "Iter: 2150, Loss: 0.6814\n",
      "Iter: 2200, Loss: 0.6812\n",
      "Iter: 2250, Loss: 0.6810\n",
      "Iter: 2300, Loss: 0.6808\n",
      "Iter: 2350, Loss: 0.6805\n",
      "Iter: 2400, Loss: 0.6804\n",
      "Iter: 2450, Loss: 0.6801\n",
      "Iter: 2500, Loss: 0.6799\n",
      "Iter: 2550, Loss: 0.6797\n",
      "Iter: 2600, Loss: 0.6794\n",
      "Iter: 2650, Loss: 0.6793\n",
      "Iter: 2700, Loss: 0.6790\n",
      "Iter: 2750, Loss: 0.6788\n",
      "Iter: 2800, Loss: 0.6786\n",
      "Iter: 2850, Loss: 0.6783\n",
      "Iter: 2900, Loss: 0.6780\n",
      "Iter: 2950, Loss: 0.6780\n",
      "Testset Accuracy: 0.5000\n"
     ]
    }
   ],
   "source": [
    "def neural_net(features, step):\n",
    "    layer1 = tf.sigmoid(tf.matmul(features, w1) + b1)\n",
    "    layer2 = tf.sigmoid(tf.matmul(layer1, w2) + b2)\n",
    "    layer3 = tf.sigmoid(tf.matmul(layer2, w3) + b3)\n",
    "    hypothesis = tf.sigmoid(tf.matmul(layer3, w4) + b4)\n",
    "    with writer.as_default():\n",
    "        tf.summary.histogram(\"weight1\", w1, step=step)\n",
    "        tf.summary.histogram(\"bias1\", b1, step=step)\n",
    "        tf.summary.histogram(\"layer1\", layer1, step=step)\n",
    "\n",
    "        tf.summary.histogram(\"weight2\", w2, step=step)\n",
    "        tf.summary.histogram(\"bias2\", b2, step=step)\n",
    "        tf.summary.histogram(\"layer2\", layer2, step=step)\n",
    "\n",
    "        tf.summary.histogram(\"weight3\", w3, step=step)\n",
    "        tf.summary.histogram(\"bias3\", b3, step=step)\n",
    "        tf.summary.histogram(\"layer3\", layer3, step=step)\n",
    "\n",
    "        tf.summary.histogram(\"weight4\", w4, step=step)\n",
    "        tf.summary.histogram(\"bias4\", b4, step=step)\n",
    "        tf.summary.histogram(\"hypothesis\", hypothesis, step=step)\n",
    "\n",
    "    return hypothesis\n",
    "\n",
    "def loss_fn(hypothesis, labels):\n",
    "    cost = -tf.reduce_mean(labels * tf.math.log(hypothesis) + (1-labels) * tf.math.log(1 - hypothesis))\n",
    "    with writer.as_default():\n",
    "        tf.summary.scalar('loss', cost, step=step)\n",
    "    return cost\n",
    "\n",
    "optimizer = tf.keras.optimizers.SGD(learning_rate = 0.01)\n",
    "\n",
    "def accuracy_fn(hypothesis,labels):\n",
    "    predicted = tf.cast(hypothesis > 0.5, dtype=tf.float32)\n",
    "    accuracy = tf.reduce_mean(tf.cast(tf.equal(predicted, labels), dtype=tf.float32))\n",
    "    return accuracy\n",
    "\n",
    "def grad(features, labels,step):\n",
    "    with tf.GradientTape() as tape:\n",
    "        loss_value = loss_fn(neural_net(features,step), labels)\n",
    "    return tape.gradient(loss_value, [w1,w2,w3,w4,b1,b2,b3,b4])\n",
    "\n",
    "EPOCHS = 3000\n",
    "for step in range(EPOCHS):\n",
    "    for features, labels in dataset:\n",
    "        features, labels = preprocess_data(features, labels)\n",
    "        grads = grad(features, labels, step)\n",
    "        optimizer.apply_gradients(grads_and_vars = zip(grads, [w1,w2,w3,w4,b1,b2,b3,b4]))\n",
    "        if step % 50 == 0:\n",
    "            loss_value = loss_fn(neural_net(features,step),labels)\n",
    "            print(\"Iter: {}, Loss: {:.4f}\".format(step, loss_value))\n",
    "\n",
    "x_data, y_data = preprocess_data(x_data, y_data)\n",
    "test_acc = accuracy_fn(neural_net(x_data,step), y_data)\n",
    "print(\"Testset Accuracy: {:.4f}\".format(test_acc))\n"
   ]
  },
  {
   "cell_type": "code",
   "execution_count": 5,
   "metadata": {},
   "outputs": [],
   "source": [
    "# summary 값을 logs폴더에 저장\n",
    "log_path = \"./logs/xor\"\n",
    "writer = tf.summary.create_file_writer(log_path)"
   ]
  },
  {
   "cell_type": "code",
   "execution_count": 6,
   "metadata": {},
   "outputs": [],
   "source": [
    "%load_ext tensorboard"
   ]
  },
  {
   "cell_type": "code",
   "execution_count": 7,
   "metadata": {},
   "outputs": [
    {
     "data": {
      "text/html": [
       "\n",
       "      <iframe id=\"tensorboard-frame-a9dd9bf76f211592\" width=\"100%\" height=\"800\" frameborder=\"0\">\n",
       "      </iframe>\n",
       "      <script>\n",
       "        (function() {\n",
       "          const frame = document.getElementById(\"tensorboard-frame-a9dd9bf76f211592\");\n",
       "          const url = new URL(\"http://localhost\");\n",
       "          const port = 6006;\n",
       "          if (port) {\n",
       "            url.port = port;\n",
       "          }\n",
       "          frame.src = url;\n",
       "        })();\n",
       "      </script>\n",
       "    "
      ],
      "text/plain": [
       "<IPython.core.display.HTML object>"
      ]
     },
     "metadata": {},
     "output_type": "display_data"
    }
   ],
   "source": [
    "%tensorboard --logdir logs/xor # 왜 데이터셋이 없다고 뜨지.."
   ]
  }
 ],
 "metadata": {
  "kernelspec": {
   "display_name": "jtgpu",
   "language": "python",
   "name": "jtgpu"
  },
  "language_info": {
   "codemirror_mode": {
    "name": "ipython",
    "version": 3
   },
   "file_extension": ".py",
   "mimetype": "text/x-python",
   "name": "python",
   "nbconvert_exporter": "python",
   "pygments_lexer": "ipython3",
   "version": "3.7.16"
  },
  "orig_nbformat": 4
 },
 "nbformat": 4,
 "nbformat_minor": 2
}
