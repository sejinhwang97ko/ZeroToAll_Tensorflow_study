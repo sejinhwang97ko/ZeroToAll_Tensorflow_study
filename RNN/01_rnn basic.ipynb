{
 "cells": [
  {
   "cell_type": "code",
   "execution_count": 1,
   "metadata": {},
   "outputs": [],
   "source": [
    "import numpy as np\n",
    "import tensorflow as tf\n",
    "from tensorflow import keras\n",
    "from tensorflow.keras import layers\n"
   ]
  },
  {
   "cell_type": "code",
   "execution_count": null,
   "metadata": {},
   "outputs": [],
   "source": [
    "# keras \n",
    "# shape = (batchsize, sequence length, input demension)\n",
    "# hidden size를 얼마로 할 건지에 따라 output의 shape가 달라짐\n",
    "# 예를 들어) input shape가 (1,1,4)인데 hidden size를 2로 하여\n",
    "# output shape가 (1,1,2)"
   ]
  },
  {
   "cell_type": "code",
   "execution_count": 3,
   "metadata": {},
   "outputs": [],
   "source": [
    "h = [1,0,0,0]\n",
    "e = [0,1,0,0]\n",
    "l = [0,0,1,0]\n",
    "o = [0,0,0,1]"
   ]
  },
  {
   "cell_type": "code",
   "execution_count": 5,
   "metadata": {},
   "outputs": [
    {
     "name": "stdout",
     "output_type": "stream",
     "text": [
      "x_data: [[[1. 0. 0. 0.]]], shape: (1, 1, 4)\n",
      "outputs: [[[-0.48446986 -0.7557923 ]]], shape: (1, 1, 2)\n",
      "states: [[-0.48446986 -0.7557923 ]], shape: (1, 2)\n"
     ]
    }
   ],
   "source": [
    "x_data = np.array([[h]], dtype=np.float32)\n",
    "\n",
    "hidden_size = 2\n",
    "cell = layers.SimpleRNNCell(units=hidden_size)\n",
    "rnn = layers.RNN(cell, return_sequences =True, return_state = True)\n",
    "outputs, states= rnn(x_data)\n",
    "\n",
    "print('x_data: {}, shape: {}'.format(x_data, x_data.shape))\n",
    "print('outputs: {}, shape: {}'.format(outputs, outputs.shape))\n",
    "# outputs - 전체 sequence에 해당하는 hidden state 값\n",
    "print('states: {}, shape: {}'.format(states, states.shape))\n",
    "# states - sequence에 마지막 hidden state 값"
   ]
  },
  {
   "cell_type": "code",
   "execution_count": 6,
   "metadata": {},
   "outputs": [],
   "source": [
    "x_data = np.array([[h, e, l, l, o]], dtype=np.float32)"
   ]
  },
  {
   "cell_type": "code",
   "execution_count": 7,
   "metadata": {},
   "outputs": [
    {
     "name": "stdout",
     "output_type": "stream",
     "text": [
      "x_data: [[[1. 0. 0. 0.]\n",
      "  [0. 1. 0. 0.]\n",
      "  [0. 0. 1. 0.]\n",
      "  [0. 0. 1. 0.]\n",
      "  [0. 0. 0. 1.]]], shape: (1, 5, 4) \n",
      "\n",
      "outputs: [[[ 0.5457474  -0.15963364]\n",
      "  [-0.1447304  -0.47491777]\n",
      "  [ 0.69669604 -0.82451904]\n",
      "  [ 0.94223243 -0.76479083]\n",
      "  [ 0.5270337   0.5918667 ]]], shape: (1, 5, 2) \n",
      "\n",
      "states: [[0.5270337 0.5918667]], shape: (1, 2)\n"
     ]
    }
   ],
   "source": [
    "hidden_size = 2\n",
    "rnn = layers.SimpleRNN(units=2, return_sequences =True, return_state = True)\n",
    "outputs, states= rnn(x_data)\n",
    "\n",
    "print('x_data: {}, shape: {} \\n'.format(x_data, x_data.shape))\n",
    "print('outputs: {}, shape: {} \\n'.format(outputs, outputs.shape))\n",
    "# outputs - 전체 sequence에 해당하는 hidden state 값\n",
    "print('states: {}, shape: {}'.format(states, states.shape))\n",
    "# states - sequence에 마지막 hidden state 값"
   ]
  },
  {
   "cell_type": "code",
   "execution_count": 8,
   "metadata": {},
   "outputs": [],
   "source": [
    "x_data = np.array([[h, e, l, l, o],\n",
    "                   [e, o, l, l, l],\n",
    "                   [l, l, e, e, l]], dtype=np.float32)"
   ]
  },
  {
   "cell_type": "code",
   "execution_count": 9,
   "metadata": {},
   "outputs": [
    {
     "name": "stdout",
     "output_type": "stream",
     "text": [
      "x_data: [[[1. 0. 0. 0.]\n",
      "  [0. 1. 0. 0.]\n",
      "  [0. 0. 1. 0.]\n",
      "  [0. 0. 1. 0.]\n",
      "  [0. 0. 0. 1.]]\n",
      "\n",
      " [[0. 1. 0. 0.]\n",
      "  [0. 0. 0. 1.]\n",
      "  [0. 0. 1. 0.]\n",
      "  [0. 0. 1. 0.]\n",
      "  [0. 0. 1. 0.]]\n",
      "\n",
      " [[0. 0. 1. 0.]\n",
      "  [0. 0. 1. 0.]\n",
      "  [0. 1. 0. 0.]\n",
      "  [0. 1. 0. 0.]\n",
      "  [0. 0. 1. 0.]]], shape: (3, 5, 4) \n",
      "\n",
      "outputs: [[[-0.71625036 -0.5454045 ]\n",
      "  [ 0.7880173  -0.72651976]\n",
      "  [-0.33433524  0.32409367]\n",
      "  [-0.83964944 -0.73027045]\n",
      "  [ 0.7170642  -0.5989015 ]]\n",
      "\n",
      " [[ 0.39748147 -0.285762  ]\n",
      "  [ 0.27127123  0.43496367]\n",
      "  [-0.8895197  -0.33381277]\n",
      "  [-0.45205334 -0.88116163]\n",
      "  [-0.01070804 -0.69991523]]\n",
      "\n",
      " [[-0.73942924 -0.50110555]\n",
      "  [-0.33124408 -0.8359082 ]\n",
      "  [ 0.86077815 -0.46018115]\n",
      "  [ 0.63396335  0.55493367]\n",
      "  [-0.92047995 -0.00645098]]], shape: (3, 5, 2) \n",
      "\n",
      "states: [[ 0.7170642  -0.5989015 ]\n",
      " [-0.01070804 -0.69991523]\n",
      " [-0.92047995 -0.00645098]], shape: (3, 2)\n"
     ]
    }
   ],
   "source": [
    "hidden_size = 2\n",
    "rnn = layers.SimpleRNN(units=2, return_sequences =True, return_state = True)\n",
    "outputs, states= rnn(x_data)\n",
    "\n",
    "print('x_data: {}, shape: {} \\n'.format(x_data, x_data.shape))\n",
    "print('outputs: {}, shape: {} \\n'.format(outputs, outputs.shape))\n",
    "# outputs - 전체 sequence에 해당하는 hidden state 값\n",
    "print('states: {}, shape: {}'.format(states, states.shape))\n",
    "# states - sequence에 마지막 hidden state 값"
   ]
  }
 ],
 "metadata": {
  "kernelspec": {
   "display_name": "jtgpu",
   "language": "python",
   "name": "jtgpu"
  },
  "language_info": {
   "codemirror_mode": {
    "name": "ipython",
    "version": 3
   },
   "file_extension": ".py",
   "mimetype": "text/x-python",
   "name": "python",
   "nbconvert_exporter": "python",
   "pygments_lexer": "ipython3",
   "version": "3.7.16"
  },
  "orig_nbformat": 4
 },
 "nbformat": 4,
 "nbformat_minor": 2
}
