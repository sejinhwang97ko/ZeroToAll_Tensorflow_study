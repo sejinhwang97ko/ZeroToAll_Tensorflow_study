{
 "cells": [
  {
   "cell_type": "code",
   "execution_count": 1,
   "metadata": {},
   "outputs": [],
   "source": [
    "import numpy as np\n",
    "import tensorflow as tf"
   ]
  },
  {
   "attachments": {},
   "cell_type": "markdown",
   "metadata": {},
   "source": [
    "l2 regularization"
   ]
  },
  {
   "cell_type": "code",
   "execution_count": 2,
   "metadata": {},
   "outputs": [],
   "source": [
    "xy = np.array([[828.659973, 833.450012, 908100, 828.349976, 831.659973],\n",
    "               [823.02002, 828.070007, 1828100, 821.655029, 828.070007],\n",
    "               [819.929993, 824.400024, 1438100, 818.97998, 824.159973],\n",
    "               [816, 820.958984, 1008100, 815.48999, 819.23999],\n",
    "               [819.359985, 823, 1188100, 818.469971, 818.97998],\n",
    "               [819, 823, 1198100, 816, 820.450012],\n",
    "               [811.700012, 815.25, 1098100, 809.780029, 813.669983],\n",
    "               [809.51001, 816.659973, 1398100, 804.539978, 809.559998]])\n",
    "\n",
    "x_train = xy[:, :-1]\n",
    "y_train = xy[:, [-1]] "
   ]
  },
  {
   "cell_type": "code",
   "execution_count": 3,
   "metadata": {},
   "outputs": [
    {
     "data": {
      "text/plain": [
       "array([[1.        , 1.        , 0.        , 1.        , 1.        ],\n",
       "       [0.70548491, 0.70439552, 1.        , 0.71881783, 0.83755792],\n",
       "       [0.54412549, 0.50274824, 0.57608696, 0.60646801, 0.6606331 ],\n",
       "       [0.33890353, 0.31368023, 0.10869565, 0.45989134, 0.43800918],\n",
       "       [0.51436   , 0.4258239 , 0.30434783, 0.58504805, 0.42624401],\n",
       "       [0.49556179, 0.4258239 , 0.31521739, 0.48131134, 0.49276137],\n",
       "       [0.11436064, 0.        , 0.20652174, 0.22007776, 0.18597238],\n",
       "       [0.        , 0.07747099, 0.5326087 , 0.        , 0.        ]])"
      ]
     },
     "execution_count": 3,
     "metadata": {},
     "output_type": "execute_result"
    }
   ],
   "source": [
    "def normalization(data):\n",
    "    numerator = data - np.min(data, 0)\n",
    "    denominator = np.max(data,0) - np.min(data,0)\n",
    "    return numerator/denominator\n",
    "\n",
    "xy = normalization(xy)\n",
    "xy"
   ]
  },
  {
   "cell_type": "code",
   "execution_count": 4,
   "metadata": {},
   "outputs": [],
   "source": [
    "dataset = tf.data.Dataset.from_tensor_slices((x_train, y_train)).batch(len(x_train))\n",
    "\n",
    "W = tf.Variable(tf.random.normal([4,1]), dtype=tf.float32)\n",
    "b = tf.Variable(tf.random.normal([1]),dtype=tf.float32)\n",
    "\n",
    "def linearReg_fn(features):\n",
    "    hypothesis = tf.matmul(features, W)+b\n",
    "    return hypothesis\n",
    "\n",
    "def l2_loss(loss, beta=0.01):\n",
    "    W_reg = tf.nn.l2_loss(W)\n",
    "    loss = tf.reduce_mean(loss+W_reg*beta)\n",
    "    return loss\n",
    "\n",
    "def loss_fn(hypothesis, labels, flag =False):\n",
    "    cost = tf.reduce_mean(tf.square(hypothesis-labels))\n",
    "    if(flag):\n",
    "        cost = l2_loss(cost)\n",
    "    return cost\n"
   ]
  },
  {
   "cell_type": "code",
   "execution_count": 5,
   "metadata": {},
   "outputs": [
    {
     "name": "stdout",
     "output_type": "stream",
     "text": [
      "Iter: 0, Loss: 4460604555264.0000\n",
      "Iter: 10, Loss: nan\n",
      "Iter: 20, Loss: nan\n",
      "Iter: 30, Loss: nan\n",
      "Iter: 40, Loss: nan\n",
      "Iter: 50, Loss: nan\n",
      "Iter: 60, Loss: nan\n",
      "Iter: 70, Loss: nan\n",
      "Iter: 80, Loss: nan\n",
      "Iter: 90, Loss: nan\n",
      "Iter: 100, Loss: nan\n"
     ]
    }
   ],
   "source": [
    "is_decay = True\n",
    "starter_learning_rate = 0.1\n",
    "\n",
    "if(is_decay):\n",
    "    learning_rate = tf.keras.optimizers.schedules.ExponentialDecay(initial_learning_rate = starter_learning_rate,\n",
    "                                                                   decay_steps = 50, \n",
    "                                                                   decay_rate = 0.96, \n",
    "                                                                   staircase=True)\n",
    "    # decay_steps : 곱할 횟수 정의(50번에 마다 적용)\n",
    "    # 50회마다 0.96을 곱하는\n",
    "    # initial_learning_rate * decay_rate ^ (step / decay_steps)\n",
    "    optimizer = tf.keras.optimizers.SGD(learning_rate)\n",
    "else:\n",
    "    optimizer = tf.keras.optimizers.SGD(learning_rate = starter_learning_rate)\n",
    "\n",
    "def grad(features, labels, l2_flag):\n",
    "    with tf.GradientTape() as tape:\n",
    "        loss_value = loss_fn(linearReg_fn(features), labels, l2_flag)\n",
    "    return tape.gradient(loss_value, [W,b]), loss_value\n",
    "\n",
    "EPOCHS = 101\n",
    "\n",
    "for step in range(EPOCHS):\n",
    "    for features, labels in dataset:\n",
    "        features = tf.cast(features, tf.float32)\n",
    "        labels = tf.cast(labels, tf.float32)\n",
    "        grads, loss_value = grad(features, labels, False) \n",
    "        optimizer.apply_gradients(grads_and_vars = zip(grads,[W,b]))\n",
    "        if step % 10 == 0:\n",
    "            print(\"Iter: {}, Loss: {:.4f}\".format(step, loss_value))"
   ]
  },
  {
   "cell_type": "code",
   "execution_count": null,
   "metadata": {},
   "outputs": [],
   "source": []
  }
 ],
 "metadata": {
  "kernelspec": {
   "display_name": "jtgpu",
   "language": "python",
   "name": "jtgpu"
  },
  "language_info": {
   "codemirror_mode": {
    "name": "ipython",
    "version": 3
   },
   "file_extension": ".py",
   "mimetype": "text/x-python",
   "name": "python",
   "nbconvert_exporter": "python",
   "pygments_lexer": "ipython3",
   "version": "3.7.16"
  },
  "orig_nbformat": 4
 },
 "nbformat": 4,
 "nbformat_minor": 2
}
